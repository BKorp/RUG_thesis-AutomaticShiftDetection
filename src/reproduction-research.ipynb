{
 "cells": [
  {
   "attachments": {},
   "cell_type": "markdown",
   "metadata": {},
   "source": [
    "It is recommended to read the description of both sections to get a good overview of the process of testing that is done here."
   ]
  },
  {
   "attachments": {},
   "cell_type": "markdown",
   "metadata": {},
   "source": [
    "# Imports"
   ]
  },
  {
   "attachments": {},
   "cell_type": "markdown",
   "metadata": {},
   "source": [
    "# Proper Reproduction"
   ]
  },
  {
   "attachments": {},
   "cell_type": "markdown",
   "metadata": {},
   "source": [
    "## Description\n",
    "\n",
    "In this section, we look into a (close to) direct recreation of the original cosine similarity setup.\n",
    "The original code is recycled and changed to follow a similar format to the rest of the code here to:\n",
    "1. Go through the code to get a proper understanding of what was done before\n",
    "2. Make it easily extendable for the other updates and changes of this project\n",
    "3. Make the code explainable in light of the entire project"
   ]
  },
  {
   "attachments": {},
   "cell_type": "markdown",
   "metadata": {},
   "source": [
    "## aligners"
   ]
  },
  {
   "attachments": {},
   "cell_type": "markdown",
   "metadata": {},
   "source": [
    "We take the first 5 sentences from 2 movies in each category (so 10 movies or 25 sentences), and we qualitatively evaluate the sentence alignment and word alignment with this data."
   ]
  },
  {
   "attachments": {},
   "cell_type": "markdown",
   "metadata": {},
   "source": [
    "### Data"
   ]
  },
  {
   "cell_type": "code",
   "execution_count": null,
   "metadata": {},
   "outputs": [],
   "source": [
    "from typing import Any\n",
    "import pandas as pd\n",
    "from pathlib import Path\n",
    "\n",
    "class dataClass:\n",
    "    def __init__(self) -> None:\n",
    "        self.path_newrun = Path('../../data/2_new_run/')\n",
    "        \n",
    "        self.__dict__['ac01'] = self.read_writer('../../data/0_original/Action/AC01_Assassin_s_Creed/txt/AC01_en.txt')\n",
    "        \n",
    "    # def action_ac(self):\n",
    "    #     return self.read_writer('../../data/0_original/Action/AC01_Assassin_s_Creed/txt/AC01_en.txt')\n",
    "    class orig:\n",
    "        def __init__(self) -> None:\n",
    "            self.path = Path('../../data/0_original/')\n",
    "            for i in self.path.glob('')\n",
    "            self.__dict__['']\n",
    "\n",
    "    class newrun:\n",
    "        def __init__(self) -> None:\n",
    "            self.path_newrun = Path('../../data/2_new_run/')\n",
    "\n",
    "    def read_writer(self, fname, mode='r', data=None):\n",
    "        with open(fname, mode, encoding='utf-8') as f:\n",
    "            if mode == 'r':\n",
    "                inp = f.read().splitlines()\n",
    "            elif mode == 'w':\n",
    "                f.write('\\n'.join(data))\n",
    "\n",
    "        if mode == 'r':\n",
    "            return inp\n",
    "\n",
    "    def sort_globber(self, path, pattern):\n",
    "        return sorted(path.glob(pattern))\n",
    "        ´"
   ]
  },
  {
   "cell_type": "code",
   "execution_count": 1,
   "metadata": {},
   "outputs": [],
   "source": [
    "from helpers.data_helper import dataPrepper"
   ]
  },
  {
   "cell_type": "code",
   "execution_count": 2,
   "metadata": {},
   "outputs": [
    {
     "name": "stdout",
     "output_type": "stream",
     "text": [
      "../data/1_rerun/Action/AC01_Assassin_s_Creed\n"
     ]
    },
    {
     "ename": "IndexError",
     "evalue": "list index out of range",
     "output_type": "error",
     "traceback": [
      "\u001b[0;31m---------------------------------------------------------------------------\u001b[0m",
      "\u001b[0;31mIndexError\u001b[0m                                Traceback (most recent call last)",
      "Cell \u001b[0;32mIn[2], line 1\u001b[0m\n\u001b[0;32m----> 1\u001b[0m orig, newrun \u001b[39m=\u001b[39m dataPrepper()\u001b[39m.\u001b[39;49msetup()\n",
      "File \u001b[0;32m~/Documents/University/msc_info_science/thesis/4_code/repos/prep/thesis_main/src/helpers/data_helper.py:73\u001b[0m, in \u001b[0;36mdataPrepper.setup\u001b[0;34m(self)\u001b[0m\n\u001b[1;32m     70\u001b[0m \u001b[39mself\u001b[39m\u001b[39m.\u001b[39mpath_orig \u001b[39m=\u001b[39m Path(\u001b[39m'\u001b[39m\u001b[39m../data/0_original/\u001b[39m\u001b[39m'\u001b[39m)\n\u001b[1;32m     71\u001b[0m \u001b[39mself\u001b[39m\u001b[39m.\u001b[39mpath_newrun \u001b[39m=\u001b[39m Path(\u001b[39m'\u001b[39m\u001b[39m../data/1_rerun/\u001b[39m\u001b[39m'\u001b[39m)\n\u001b[0;32m---> 73\u001b[0m \u001b[39mreturn\u001b[39;00m \u001b[39mself\u001b[39m\u001b[39m.\u001b[39mprep(\u001b[39m'\u001b[39m\u001b[39morig\u001b[39m\u001b[39m'\u001b[39m), \u001b[39mself\u001b[39;49m\u001b[39m.\u001b[39;49mprep(\u001b[39m'\u001b[39;49m\u001b[39mnewrun\u001b[39;49m\u001b[39m'\u001b[39;49m)\n",
      "File \u001b[0;32m~/Documents/University/msc_info_science/thesis/4_code/repos/prep/thesis_main/src/helpers/data_helper.py:90\u001b[0m, in \u001b[0;36mdataPrepper.prep\u001b[0;34m(self, variant)\u001b[0m\n\u001b[1;32m     88\u001b[0m         \u001b[39melif\u001b[39;00m variant \u001b[39m==\u001b[39m \u001b[39m'\u001b[39m\u001b[39mnewrun\u001b[39m\u001b[39m'\u001b[39m:\n\u001b[1;32m     89\u001b[0m             \u001b[39mprint\u001b[39m(p)\n\u001b[0;32m---> 90\u001b[0m             file_ids[idx_code] \u001b[39m=\u001b[39m newrunData(p, file_name)\n\u001b[1;32m     92\u001b[0m \u001b[39mreturn\u001b[39;00m SimpleNamespace(\u001b[39m*\u001b[39m\u001b[39m*\u001b[39mfile_ids)\n",
      "File \u001b[0;32m<string>:5\u001b[0m, in \u001b[0;36m__init__\u001b[0;34m(self, path, name)\u001b[0m\n",
      "File \u001b[0;32m~/Documents/University/msc_info_science/thesis/4_code/repos/prep/thesis_main/src/helpers/data_helper.py:61\u001b[0m, in \u001b[0;36mnewrunData.__post_init__\u001b[0;34m(self)\u001b[0m\n\u001b[1;32m     59\u001b[0m \u001b[39mdef\u001b[39;00m \u001b[39m__post_init__\u001b[39m(\u001b[39mself\u001b[39m):\n\u001b[1;32m     60\u001b[0m \u001b[39m    \u001b[39m\u001b[39m''''''\u001b[39;00m\n\u001b[0;32m---> 61\u001b[0m     \u001b[39mself\u001b[39m\u001b[39m.\u001b[39men_nl \u001b[39m=\u001b[39m \u001b[39mself\u001b[39m\u001b[39m.\u001b[39mread_writer(\u001b[39mself\u001b[39;49m\u001b[39m.\u001b[39;49msort_globber(\u001b[39mself\u001b[39;49m\u001b[39m.\u001b[39;49mpath, \u001b[39mf\u001b[39;49m\u001b[39m'\u001b[39;49m\u001b[39mtxt/*_en-nl.lfa\u001b[39;49m\u001b[39m'\u001b[39;49m))\n\u001b[1;32m     62\u001b[0m     \u001b[39mself\u001b[39m\u001b[39m.\u001b[39mwa_en_nl \u001b[39m=\u001b[39m \u001b[39mself\u001b[39m\u001b[39m.\u001b[39mread_writer(\u001b[39mself\u001b[39m\u001b[39m.\u001b[39msort_globber(\u001b[39mself\u001b[39m\u001b[39m.\u001b[39mpath, \u001b[39mf\u001b[39m\u001b[39m'\u001b[39m\u001b[39mwa/*_en-nl.wa\u001b[39m\u001b[39m'\u001b[39m))\n\u001b[1;32m     64\u001b[0m     \u001b[39mself\u001b[39m\u001b[39m.\u001b[39men \u001b[39m=\u001b[39m [i\u001b[39m.\u001b[39msplit(\u001b[39m'\u001b[39m\u001b[39m ||| \u001b[39m\u001b[39m'\u001b[39m)[\u001b[39m0\u001b[39m] \u001b[39mfor\u001b[39;00m i \u001b[39min\u001b[39;00m \u001b[39mself\u001b[39m\u001b[39m.\u001b[39men_nl]\n",
      "File \u001b[0;32m~/Documents/University/msc_info_science/thesis/4_code/repos/prep/thesis_main/src/helpers/data_helper.py:18\u001b[0m, in \u001b[0;36mbaseFunctionsData.sort_globber\u001b[0;34m(self, path, pattern)\u001b[0m\n\u001b[1;32m     17\u001b[0m \u001b[39mdef\u001b[39;00m \u001b[39msort_globber\u001b[39m(\u001b[39mself\u001b[39m, path, pattern):\n\u001b[0;32m---> 18\u001b[0m     \u001b[39mreturn\u001b[39;00m \u001b[39msorted\u001b[39;49m(path\u001b[39m.\u001b[39;49mglob(pattern))[\u001b[39m0\u001b[39;49m]\n",
      "\u001b[0;31mIndexError\u001b[0m: list index out of range"
     ]
    }
   ],
   "source": [
    "orig, newrun = dataPrepper().setup()"
   ]
  },
  {
   "cell_type": "code",
   "execution_count": null,
   "metadata": {},
   "outputs": [],
   "source": [
    "from pathlib import Path"
   ]
  },
  {
   "cell_type": "code",
   "execution_count": null,
   "metadata": {},
   "outputs": [],
   "source": [
    "for i in sorted(Path('../data/2_new_run/').glob('*/*')):\n",
    "    print(sorted(i.glob('txt/*_en-nl.lfa')))\n",
    "    break"
   ]
  },
  {
   "attachments": {},
   "cell_type": "markdown",
   "metadata": {},
   "source": [
    "### Sentence aligner"
   ]
  },
  {
   "cell_type": "code",
   "execution_count": null,
   "metadata": {},
   "outputs": [],
   "source": [
    "newrun"
   ]
  },
  {
   "attachments": {},
   "cell_type": "markdown",
   "metadata": {},
   "source": [
    "### Word alignment"
   ]
  },
  {
   "attachments": {},
   "cell_type": "markdown",
   "metadata": {},
   "source": [
    "## Compare static embeddings"
   ]
  },
  {
   "attachments": {},
   "cell_type": "markdown",
   "metadata": {},
   "source": [
    "# Enhanced Reproduction"
   ]
  },
  {
   "attachments": {},
   "cell_type": "markdown",
   "metadata": {},
   "source": [
    "## Description\n",
    "\n",
    "..."
   ]
  }
 ],
 "metadata": {
  "kernelspec": {
   "display_name": "env",
   "language": "python",
   "name": "python3"
  },
  "language_info": {
   "codemirror_mode": {
    "name": "ipython",
    "version": 3
   },
   "file_extension": ".py",
   "mimetype": "text/x-python",
   "name": "python",
   "nbconvert_exporter": "python",
   "pygments_lexer": "ipython3",
   "version": "3.10.11"
  },
  "orig_nbformat": 4
 },
 "nbformat": 4,
 "nbformat_minor": 2
}
