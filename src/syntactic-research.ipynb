{
 "cells": [
  {
   "attachments": {},
   "cell_type": "markdown",
   "metadata": {},
   "source": [
    "# ASTrED playground"
   ]
  },
  {
   "cell_type": "code",
   "execution_count": 22,
   "metadata": {},
   "outputs": [
    {
     "name": "stderr",
     "output_type": "stream",
     "text": [
      "/home/andre/Documents/University/msc_info_science/thesis/4_code/repos/prep/thesis_main/env/lib/python3.10/site-packages/tqdm/auto.py:21: TqdmWarning: IProgress not found. Please update jupyter and ipywidgets. See https://ipywidgets.readthedocs.io/en/stable/user_install.html\n",
      "  from .autonotebook import tqdm as notebook_tqdm\n",
      "/home/andre/Documents/University/msc_info_science/thesis/4_code/repos/prep/thesis_main/env/lib/python3.10/site-packages/torch/cuda/__init__.py:546: UserWarning: Can't initialize NVML\n",
      "  warnings.warn(\"Can't initialize NVML\")\n"
     ]
    }
   ],
   "source": [
    "from detectors.syntax_sim import astredRunner, astredAndre"
   ]
  },
  {
   "attachments": {},
   "cell_type": "markdown",
   "metadata": {},
   "source": [
    "## Metrics"
   ]
  },
  {
   "attachments": {},
   "cell_type": "markdown",
   "metadata": {},
   "source": [
    "### Metric codes"
   ]
  },
  {
   "attachments": {},
   "cell_type": "markdown",
   "metadata": {},
   "source": [
    "#### Sacr Cross score"
   ]
  },
  {
   "cell_type": "code",
   "execution_count": 25,
   "metadata": {},
   "outputs": [],
   "source": [
    "def sacr_cross_score(astred_obj, round_bool=False, round_num=2):\n",
    "    ''''''\n",
    "    # The final SACr value is the number of crossing alignment links between \n",
    "    # the source and target SACr groups, normalised by the number of these alignments. ~Vanroy et al.\n",
    "    score = len(astred_obj.no_null_word_pairs) / astred_obj.src.sacr_cross\n",
    "    if round_bool:\n",
    "        return round(score, round_num)\n",
    "    else:\n",
    "        return score"
   ]
  },
  {
   "attachments": {},
   "cell_type": "markdown",
   "metadata": {},
   "source": [
    "#### Label Change Score"
   ]
  },
  {
   "cell_type": "code",
   "execution_count": 26,
   "metadata": {},
   "outputs": [],
   "source": [
    "def label_changes_score(astred_obj, round_bool=False, round_num=2, verbose=False):\n",
    "    ''''''\n",
    "    # We look at each source word and compare its label \n",
    "    # to the labels of the words that it is aligned to.\n",
    "    # These label changes are then normalised by \n",
    "    # the total number of alignments ~Vanroy et al.\n",
    "    change_list = []\n",
    "    for src, tgt in astred_obj.no_null_word_pairs:\n",
    "        if src.deprel == tgt.deprel:\n",
    "            change = 0\n",
    "        else:\n",
    "            change = 1\n",
    "        change_list.append(change)\n",
    "        if verbose:\n",
    "            print(f'\\'{src.text}\\'({src.deprel}) | \\'{tgt.text}\\'({tgt.deprel}) | {change}')\n",
    "\n",
    "    score = sum(change_list) / len(astred_obj.no_null_word_pairs)\n",
    "\n",
    "    if round_bool:\n",
    "        score = round(score, round_num)\n",
    "\n",
    "    if verbose:\n",
    "        print(f'Total: {sum(change_list)} (normalised: {sum(change_list)} out of {len(astred_obj.no_null_word_pairs)} = {score})')\n",
    "    \n",
    "    return score"
   ]
  },
  {
   "attachments": {},
   "cell_type": "markdown",
   "metadata": {},
   "source": [
    "#### ASTrED Score"
   ]
  },
  {
   "cell_type": "code",
   "execution_count": 27,
   "metadata": {},
   "outputs": [],
   "source": [
    "from statistics import mean\n",
    "\n",
    "\n",
    "def astred_score(astred_obj, en_sent, nl_sent, round_bool=False, round_num=2, verbose=False):\n",
    "    ''''''\n",
    "    # Use dependency trees with UD labels on grouped source-target tokens to retrieve \n",
    "    # the amount of steps necessary for both source and target trees to become the same as the other.\n",
    "    # Normalised by taking the total scores of all trees by the average of source and target words.\n",
    "    src_astred_score = []\n",
    "    tgt_astred_score = []\n",
    "    for src, tgt in astred_obj.no_null_word_pairs:\n",
    "        src_astred_score.append(src.tree.astred_cost)\n",
    "        tgt_astred_score.append(tgt.tree.astred_cost)\n",
    "        if verbose:\n",
    "            print(src.text, src.tree.astred_op, tgt.text, tgt.tree.astred_op)\n",
    "\n",
    "    score = (\n",
    "        (sum(src_astred_score) + sum(tgt_astred_score)) \n",
    "         / mean([len(en_sent.no_null_words), len(nl_sent.no_null_words)])\n",
    "    )\n",
    "\n",
    "    if round_bool:\n",
    "        score = round(score, round_num)\n",
    "\n",
    "    if verbose:\n",
    "        print('')\n",
    "\n",
    "    return score"
   ]
  },
  {
   "attachments": {},
   "cell_type": "markdown",
   "metadata": {},
   "source": [
    "### Example inputs"
   ]
  },
  {
   "cell_type": "code",
   "execution_count": 28,
   "metadata": {},
   "outputs": [],
   "source": [
    "sent_dict = {\n",
    "    'name': 'test_1',\n",
    "    'en': 'Sometimes she asks me why I used to call her father Harold .',\n",
    "    'nl': 'Soms vraagt ze waarom ik haar vader Harold noemde .',\n",
    "    'aligns': '0-0 1-2 2-1 4-3 5-4 8-8 9-5 10-6 11-7 12-9',\n",
    "}\n",
    "\n",
    "astred_sacr = astredAndre(\n",
    "    en=sent_dict['en'],\n",
    "    nl=sent_dict['nl'],\n",
    "    aligns=sent_dict['aligns'],\n",
    "    name=sent_dict['name'],\n",
    ")"
   ]
  },
  {
   "cell_type": "code",
   "execution_count": 30,
   "metadata": {},
   "outputs": [],
   "source": [
    "sent_dict = {\n",
    "    'name': 'test_2',\n",
    "    'en': 'I saw him .',\n",
    "    'nl': 'Hij werd door mij gezien .',\n",
    "    'aligns': '0-2 0-3 1-1 1-4 2-0',\n",
    "}\n",
    "\n",
    "astred_label = astredAndre(\n",
    "    en=sent_dict['en'],\n",
    "    nl=sent_dict['nl'],\n",
    "    aligns=sent_dict['aligns'],\n",
    "    name=sent_dict['name'],\n",
    ")"
   ]
  },
  {
   "cell_type": "code",
   "execution_count": 51,
   "metadata": {},
   "outputs": [],
   "source": [
    "sent_dict = {\n",
    "    'name': 'test_3',\n",
    "    'en': 'Does he believe in love ?',\n",
    "    'nl': 'Gelooft hij in de liefde ?',\n",
    "    'aligns': '0-0 1-1 2-0 3-2 4-3 4-4 5-5',\n",
    "}\n",
    "\n",
    "astred_astred_score = astredAndre(\n",
    "    en=sent_dict['en'],\n",
    "    nl=sent_dict['nl'],\n",
    "    aligns=sent_dict['aligns'],\n",
    "    name=sent_dict['name'],\n",
    ")"
   ]
  },
  {
   "attachments": {},
   "cell_type": "markdown",
   "metadata": {},
   "source": [
    "### Example metric outputs"
   ]
  },
  {
   "cell_type": "code",
   "execution_count": 81,
   "metadata": {},
   "outputs": [
    {
     "data": {
      "text/plain": [
       "3.33"
      ]
     },
     "execution_count": 81,
     "metadata": {},
     "output_type": "execute_result"
    }
   ],
   "source": [
    "sacr_cross_score(astred_sacr.aligned, round_bool=True)"
   ]
  },
  {
   "cell_type": "code",
   "execution_count": 83,
   "metadata": {},
   "outputs": [
    {
     "name": "stdout",
     "output_type": "stream",
     "text": [
      "'I'(nsubj) | 'door'(case) | 1\n",
      "'I'(nsubj) | 'mij'(obl) | 1\n",
      "'saw'(root) | 'werd'(aux) | 1\n",
      "'saw'(root) | 'gezien'(root) | 0\n",
      "'him'(obj) | 'Hij'(nsubj) | 1\n",
      "Total: 4 (normalised: 4 out of 5 = 0.8)\n"
     ]
    },
    {
     "data": {
      "text/plain": [
       "0.8"
      ]
     },
     "execution_count": 83,
     "metadata": {},
     "output_type": "execute_result"
    }
   ],
   "source": [
    "label_changes_score(astred_label.aligned, verbose=True)"
   ]
  },
  {
   "cell_type": "code",
   "execution_count": 86,
   "metadata": {},
   "outputs": [
    {
     "data": {
      "text/plain": [
       "0.3333333333333333"
      ]
     },
     "execution_count": 86,
     "metadata": {},
     "output_type": "execute_result"
    }
   ],
   "source": [
    "astred_score(astred_astred_score.aligned, astred_astred_score.sent_en, astred_astred_score.sent_nl)"
   ]
  },
  {
   "attachments": {},
   "cell_type": "markdown",
   "metadata": {},
   "source": [
    "## General testing"
   ]
  },
  {
   "cell_type": "code",
   "execution_count": 3,
   "metadata": {},
   "outputs": [
    {
     "data": {
      "text/html": [
       "<div>\n",
       "<style scoped>\n",
       "    .dataframe tbody tr th:only-of-type {\n",
       "        vertical-align: middle;\n",
       "    }\n",
       "\n",
       "    .dataframe tbody tr th {\n",
       "        vertical-align: top;\n",
       "    }\n",
       "\n",
       "    .dataframe thead th {\n",
       "        text-align: right;\n",
       "    }\n",
       "</style>\n",
       "<table border=\"1\" class=\"dataframe\">\n",
       "  <thead>\n",
       "    <tr style=\"text-align: right;\">\n",
       "      <th></th>\n",
       "      <th>sent_name</th>\n",
       "      <th>aligned_tgt</th>\n",
       "      <th>deprel</th>\n",
       "      <th>cross</th>\n",
       "      <th>sacr_cross</th>\n",
       "      <th>dep_changes</th>\n",
       "      <th>astred_op</th>\n",
       "    </tr>\n",
       "    <tr>\n",
       "      <th>aligned_src</th>\n",
       "      <th></th>\n",
       "      <th></th>\n",
       "      <th></th>\n",
       "      <th></th>\n",
       "      <th></th>\n",
       "      <th></th>\n",
       "      <th></th>\n",
       "    </tr>\n",
       "  </thead>\n",
       "  <tbody>\n",
       "    <tr>\n",
       "      <th>The</th>\n",
       "      <td>test_1</td>\n",
       "      <td>de</td>\n",
       "      <td>det</td>\n",
       "      <td>3</td>\n",
       "      <td>3</td>\n",
       "      <td>1</td>\n",
       "      <td>match</td>\n",
       "    </tr>\n",
       "    <tr>\n",
       "      <th>show</th>\n",
       "      <td>test_1</td>\n",
       "      <td>voorstelling</td>\n",
       "      <td>nsubj</td>\n",
       "      <td>4</td>\n",
       "      <td>4</td>\n",
       "      <td>1</td>\n",
       "      <td>deletion</td>\n",
       "    </tr>\n",
       "    <tr>\n",
       "      <th>is</th>\n",
       "      <td>test_1</td>\n",
       "      <td>is</td>\n",
       "      <td>aux</td>\n",
       "      <td>2</td>\n",
       "      <td>2</td>\n",
       "      <td>1</td>\n",
       "      <td>match</td>\n",
       "    </tr>\n",
       "    <tr>\n",
       "      <th>billed</th>\n",
       "      <td>test_1</td>\n",
       "      <td>is</td>\n",
       "      <td>root</td>\n",
       "      <td>2</td>\n",
       "      <td>2</td>\n",
       "      <td>1</td>\n",
       "      <td>rename</td>\n",
       "    </tr>\n",
       "    <tr>\n",
       "      <th>as</th>\n",
       "      <td>test_1</td>\n",
       "      <td>is</td>\n",
       "      <td>case</td>\n",
       "      <td>2</td>\n",
       "      <td>2</td>\n",
       "      <td>1</td>\n",
       "      <td>rename</td>\n",
       "    </tr>\n",
       "    <tr>\n",
       "      <th>the</th>\n",
       "      <td>test_1</td>\n",
       "      <td>het</td>\n",
       "      <td>det</td>\n",
       "      <td>3</td>\n",
       "      <td>3</td>\n",
       "      <td>0</td>\n",
       "      <td>match</td>\n",
       "    </tr>\n",
       "    <tr>\n",
       "      <th>museum</th>\n",
       "      <td>test_1</td>\n",
       "      <td>museum</td>\n",
       "      <td>nmod</td>\n",
       "      <td>3</td>\n",
       "      <td>3</td>\n",
       "      <td>1</td>\n",
       "      <td>match</td>\n",
       "    </tr>\n",
       "    <tr>\n",
       "      <th>'s</th>\n",
       "      <td>test_1</td>\n",
       "      <td>in</td>\n",
       "      <td>case</td>\n",
       "      <td>4</td>\n",
       "      <td>3</td>\n",
       "      <td>0</td>\n",
       "      <td>deletion</td>\n",
       "    </tr>\n",
       "    <tr>\n",
       "      <th>largest</th>\n",
       "      <td>test_1</td>\n",
       "      <td>duurste</td>\n",
       "      <td>obl</td>\n",
       "      <td>4</td>\n",
       "      <td>3</td>\n",
       "      <td>1</td>\n",
       "      <td>deletion</td>\n",
       "    </tr>\n",
       "    <tr>\n",
       "      <th>ever</th>\n",
       "      <td>test_1</td>\n",
       "      <td>ooit</td>\n",
       "      <td>advmod</td>\n",
       "      <td>3</td>\n",
       "      <td>2</td>\n",
       "      <td>0</td>\n",
       "      <td>deletion</td>\n",
       "    </tr>\n",
       "    <tr>\n",
       "      <th>.</th>\n",
       "      <td>test_1</td>\n",
       "      <td>.</td>\n",
       "      <td>punct</td>\n",
       "      <td>0</td>\n",
       "      <td>0</td>\n",
       "      <td>0</td>\n",
       "      <td>match</td>\n",
       "    </tr>\n",
       "  </tbody>\n",
       "</table>\n",
       "</div>"
      ],
      "text/plain": [
       "            sent_name   aligned_tgt  deprel  cross  sacr_cross  dep_changes  \\\n",
       "aligned_src                                                                   \n",
       "The            test_1            de     det      3           3            1   \n",
       "show           test_1  voorstelling   nsubj      4           4            1   \n",
       "is             test_1            is     aux      2           2            1   \n",
       "billed         test_1            is    root      2           2            1   \n",
       "as             test_1            is    case      2           2            1   \n",
       "the            test_1           het     det      3           3            0   \n",
       "museum         test_1        museum    nmod      3           3            1   \n",
       "'s             test_1            in    case      4           3            0   \n",
       "largest        test_1       duurste     obl      4           3            1   \n",
       "ever           test_1          ooit  advmod      3           2            0   \n",
       ".              test_1             .   punct      0           0            0   \n",
       "\n",
       "            astred_op  \n",
       "aligned_src            \n",
       "The             match  \n",
       "show         deletion  \n",
       "is              match  \n",
       "billed         rename  \n",
       "as             rename  \n",
       "the             match  \n",
       "museum          match  \n",
       "'s           deletion  \n",
       "largest      deletion  \n",
       "ever         deletion  \n",
       ".               match  "
      ]
     },
     "metadata": {},
     "output_type": "display_data"
    }
   ],
   "source": [
    "import pandas as pd\n",
    "\n",
    "# for src, tgt in astred.aligned.no_null_word_pairs:\n",
    "#     print(src.text, tgt.text)\n",
    "\n",
    "df = pd.DataFrame.from_dict({src.text: [sent_dict['name'], tgt.text, src.deprel, src.cross, src.sacr_group.cross, src.num_changes(), src.tree.astred_op]\n",
    "                                 for src, tgt in astred.aligned.no_null_word_pairs},\n",
    "        orient=\"index\",\n",
    "        columns=[\"sent_name\", \"aligned_tgt\", \"deprel\", \"cross\", \"sacr_cross\", \"dep_changes\", \"astred_op\"])\n",
    "# df = pd.DataFrame.from_dict({src.text: [tgt.text, \n",
    "#                                         src.deprel, tgt.deprel, \n",
    "#                                         src.cross, tgt.cross, \n",
    "#                                         src.sacr_group.cross, tgt.sacr_group.cross, \n",
    "#                                         src.num_changes(), tgt.num_changes(),\n",
    "#                                         src.tree.astred_op, tgt.tree.astred_op]\n",
    "#                                  for src, tgt in astred.aligned.no_null_word_pairs},\n",
    "#         orient=\"index\",\n",
    "#         columns=[\n",
    "#             \"aligned_tgt\",\n",
    "#             \"deprel_src\", \"deprel_tgt\", \n",
    "#             \"cross_src\", \"cross_tgt\",\n",
    "#             \"sacr_cross_src\", \"sacr_cross_tgt\",\n",
    "#             \"dep_changes_src\", \"dep_changes_tgt\", \n",
    "#             \"astred_op_src\", \"astred_op_tgt\"\n",
    "#         ])\n",
    "df.index.name = 'aligned_src'\n",
    "\n",
    "display(df)"
   ]
  },
  {
   "cell_type": "code",
   "execution_count": 26,
   "metadata": {},
   "outputs": [],
   "source": [
    "df_grp = df.reset_index().groupby(['sent_name']).agg(list)"
   ]
  },
  {
   "cell_type": "code",
   "execution_count": 27,
   "metadata": {},
   "outputs": [
    {
     "data": {
      "text/html": [
       "<div>\n",
       "<style scoped>\n",
       "    .dataframe tbody tr th:only-of-type {\n",
       "        vertical-align: middle;\n",
       "    }\n",
       "\n",
       "    .dataframe tbody tr th {\n",
       "        vertical-align: top;\n",
       "    }\n",
       "\n",
       "    .dataframe thead th {\n",
       "        text-align: right;\n",
       "    }\n",
       "</style>\n",
       "<table border=\"1\" class=\"dataframe\">\n",
       "  <thead>\n",
       "    <tr style=\"text-align: right;\">\n",
       "      <th></th>\n",
       "      <th>aligned_src</th>\n",
       "      <th>aligned_tgt</th>\n",
       "      <th>deprel</th>\n",
       "      <th>cross</th>\n",
       "      <th>sacr_cross</th>\n",
       "      <th>dep_changes</th>\n",
       "      <th>astred_op</th>\n",
       "    </tr>\n",
       "    <tr>\n",
       "      <th>sent_name</th>\n",
       "      <th></th>\n",
       "      <th></th>\n",
       "      <th></th>\n",
       "      <th></th>\n",
       "      <th></th>\n",
       "      <th></th>\n",
       "      <th></th>\n",
       "    </tr>\n",
       "  </thead>\n",
       "  <tbody>\n",
       "    <tr>\n",
       "      <th>test_1</th>\n",
       "      <td>[The, show, is, billed, as, the, museum, 's, l...</td>\n",
       "      <td>[de, voorstelling, is, is, is, het, museum, in...</td>\n",
       "      <td>[det, nsubj, aux, root, case, det, nmod, case,...</td>\n",
       "      <td>[3, 4, 2, 2, 2, 3, 3, 4, 4, 3, 0]</td>\n",
       "      <td>[3, 4, 2, 2, 2, 3, 3, 3, 3, 2, 0]</td>\n",
       "      <td>[1, 1, 1, 1, 1, 0, 1, 0, 1, 0, 0]</td>\n",
       "      <td>[match, deletion, match, rename, rename, match...</td>\n",
       "    </tr>\n",
       "  </tbody>\n",
       "</table>\n",
       "</div>"
      ],
      "text/plain": [
       "                                                 aligned_src  \\\n",
       "sent_name                                                      \n",
       "test_1     [The, show, is, billed, as, the, museum, 's, l...   \n",
       "\n",
       "                                                 aligned_tgt  \\\n",
       "sent_name                                                      \n",
       "test_1     [de, voorstelling, is, is, is, het, museum, in...   \n",
       "\n",
       "                                                      deprel  \\\n",
       "sent_name                                                      \n",
       "test_1     [det, nsubj, aux, root, case, det, nmod, case,...   \n",
       "\n",
       "                                       cross  \\\n",
       "sent_name                                      \n",
       "test_1     [3, 4, 2, 2, 2, 3, 3, 4, 4, 3, 0]   \n",
       "\n",
       "                                  sacr_cross  \\\n",
       "sent_name                                      \n",
       "test_1     [3, 4, 2, 2, 2, 3, 3, 3, 3, 2, 0]   \n",
       "\n",
       "                                 dep_changes  \\\n",
       "sent_name                                      \n",
       "test_1     [1, 1, 1, 1, 1, 0, 1, 0, 1, 0, 0]   \n",
       "\n",
       "                                                   astred_op  \n",
       "sent_name                                                     \n",
       "test_1     [match, deletion, match, rename, rename, match...  "
      ]
     },
     "metadata": {},
     "output_type": "display_data"
    }
   ],
   "source": [
    "display(df_grp)"
   ]
  },
  {
   "cell_type": "code",
   "execution_count": 5,
   "metadata": {},
   "outputs": [
    {
     "name": "stdout",
     "output_type": "stream",
     "text": [
      "\n",
      " data_frame \n",
      "\n"
     ]
    },
    {
     "data": {
      "text/html": [
       "<div>\n",
       "<style scoped>\n",
       "    .dataframe tbody tr th:only-of-type {\n",
       "        vertical-align: middle;\n",
       "    }\n",
       "\n",
       "    .dataframe tbody tr th {\n",
       "        vertical-align: top;\n",
       "    }\n",
       "\n",
       "    .dataframe thead th {\n",
       "        text-align: right;\n",
       "    }\n",
       "</style>\n",
       "<table border=\"1\" class=\"dataframe\">\n",
       "  <thead>\n",
       "    <tr style=\"text-align: right;\">\n",
       "      <th></th>\n",
       "      <th>deprel</th>\n",
       "      <th>cross</th>\n",
       "      <th>sacr_cross</th>\n",
       "      <th>dep_changes</th>\n",
       "      <th>astred_op</th>\n",
       "    </tr>\n",
       "  </thead>\n",
       "  <tbody>\n",
       "    <tr>\n",
       "      <th>The</th>\n",
       "      <td>det</td>\n",
       "      <td>3</td>\n",
       "      <td>3</td>\n",
       "      <td>1</td>\n",
       "      <td>match</td>\n",
       "    </tr>\n",
       "    <tr>\n",
       "      <th>show</th>\n",
       "      <td>nsubj</td>\n",
       "      <td>4</td>\n",
       "      <td>4</td>\n",
       "      <td>1</td>\n",
       "      <td>deletion</td>\n",
       "    </tr>\n",
       "    <tr>\n",
       "      <th>is</th>\n",
       "      <td>aux</td>\n",
       "      <td>2</td>\n",
       "      <td>2</td>\n",
       "      <td>1</td>\n",
       "      <td>match</td>\n",
       "    </tr>\n",
       "    <tr>\n",
       "      <th>billed</th>\n",
       "      <td>root</td>\n",
       "      <td>2</td>\n",
       "      <td>2</td>\n",
       "      <td>1</td>\n",
       "      <td>rename</td>\n",
       "    </tr>\n",
       "    <tr>\n",
       "      <th>as</th>\n",
       "      <td>case</td>\n",
       "      <td>2</td>\n",
       "      <td>2</td>\n",
       "      <td>1</td>\n",
       "      <td>rename</td>\n",
       "    </tr>\n",
       "    <tr>\n",
       "      <th>the</th>\n",
       "      <td>det</td>\n",
       "      <td>3</td>\n",
       "      <td>3</td>\n",
       "      <td>0</td>\n",
       "      <td>match</td>\n",
       "    </tr>\n",
       "    <tr>\n",
       "      <th>museum</th>\n",
       "      <td>nmod</td>\n",
       "      <td>3</td>\n",
       "      <td>3</td>\n",
       "      <td>1</td>\n",
       "      <td>match</td>\n",
       "    </tr>\n",
       "    <tr>\n",
       "      <th>'s</th>\n",
       "      <td>case</td>\n",
       "      <td>4</td>\n",
       "      <td>3</td>\n",
       "      <td>0</td>\n",
       "      <td>deletion</td>\n",
       "    </tr>\n",
       "    <tr>\n",
       "      <th>largest</th>\n",
       "      <td>obl</td>\n",
       "      <td>4</td>\n",
       "      <td>3</td>\n",
       "      <td>1</td>\n",
       "      <td>deletion</td>\n",
       "    </tr>\n",
       "    <tr>\n",
       "      <th>ever</th>\n",
       "      <td>advmod</td>\n",
       "      <td>3</td>\n",
       "      <td>2</td>\n",
       "      <td>0</td>\n",
       "      <td>deletion</td>\n",
       "    </tr>\n",
       "    <tr>\n",
       "      <th>.</th>\n",
       "      <td>punct</td>\n",
       "      <td>0</td>\n",
       "      <td>0</td>\n",
       "      <td>0</td>\n",
       "      <td>match</td>\n",
       "    </tr>\n",
       "  </tbody>\n",
       "</table>\n",
       "</div>"
      ],
      "text/plain": [
       "         deprel  cross  sacr_cross  dep_changes astred_op\n",
       "The         det      3           3            1     match\n",
       "show      nsubj      4           4            1  deletion\n",
       "is          aux      2           2            1     match\n",
       "billed     root      2           2            1    rename\n",
       "as         case      2           2            1    rename\n",
       "the         det      3           3            0     match\n",
       "museum     nmod      3           3            1     match\n",
       "'s         case      4           3            0  deletion\n",
       "largest     obl      4           3            1  deletion\n",
       "ever     advmod      3           2            0  deletion\n",
       ".         punct      0           0            0     match"
      ]
     },
     "metadata": {},
     "output_type": "display_data"
    },
    {
     "data": {
      "text/html": [
       "<div>\n",
       "<style scoped>\n",
       "    .dataframe tbody tr th:only-of-type {\n",
       "        vertical-align: middle;\n",
       "    }\n",
       "\n",
       "    .dataframe tbody tr th {\n",
       "        vertical-align: top;\n",
       "    }\n",
       "\n",
       "    .dataframe thead th {\n",
       "        text-align: right;\n",
       "    }\n",
       "</style>\n",
       "<table border=\"1\" class=\"dataframe\">\n",
       "  <thead>\n",
       "    <tr style=\"text-align: right;\">\n",
       "      <th></th>\n",
       "      <th>deprel</th>\n",
       "      <th>cross</th>\n",
       "      <th>sacr_cross</th>\n",
       "      <th>dep_changes</th>\n",
       "      <th>astred_op</th>\n",
       "    </tr>\n",
       "  </thead>\n",
       "  <tbody>\n",
       "    <tr>\n",
       "      <th>Dit</th>\n",
       "      <td>nsubj</td>\n",
       "      <td>0</td>\n",
       "      <td>0</td>\n",
       "      <td>1</td>\n",
       "      <td>match</td>\n",
       "    </tr>\n",
       "    <tr>\n",
       "      <th>is</th>\n",
       "      <td>cop</td>\n",
       "      <td>6</td>\n",
       "      <td>6</td>\n",
       "      <td>3</td>\n",
       "      <td>match</td>\n",
       "    </tr>\n",
       "    <tr>\n",
       "      <th>de</th>\n",
       "      <td>det</td>\n",
       "      <td>3</td>\n",
       "      <td>3</td>\n",
       "      <td>0</td>\n",
       "      <td>rename</td>\n",
       "    </tr>\n",
       "    <tr>\n",
       "      <th>duurste</th>\n",
       "      <td>amod</td>\n",
       "      <td>4</td>\n",
       "      <td>3</td>\n",
       "      <td>1</td>\n",
       "      <td>deletion</td>\n",
       "    </tr>\n",
       "    <tr>\n",
       "      <th>voorstelling</th>\n",
       "      <td>root</td>\n",
       "      <td>4</td>\n",
       "      <td>4</td>\n",
       "      <td>1</td>\n",
       "      <td>rename</td>\n",
       "    </tr>\n",
       "    <tr>\n",
       "      <th>ooit</th>\n",
       "      <td>advmod</td>\n",
       "      <td>3</td>\n",
       "      <td>2</td>\n",
       "      <td>0</td>\n",
       "      <td>deletion</td>\n",
       "    </tr>\n",
       "    <tr>\n",
       "      <th>in</th>\n",
       "      <td>case</td>\n",
       "      <td>4</td>\n",
       "      <td>3</td>\n",
       "      <td>0</td>\n",
       "      <td>deletion</td>\n",
       "    </tr>\n",
       "    <tr>\n",
       "      <th>het</th>\n",
       "      <td>det</td>\n",
       "      <td>3</td>\n",
       "      <td>3</td>\n",
       "      <td>0</td>\n",
       "      <td>match</td>\n",
       "    </tr>\n",
       "    <tr>\n",
       "      <th>museum</th>\n",
       "      <td>obl</td>\n",
       "      <td>3</td>\n",
       "      <td>3</td>\n",
       "      <td>1</td>\n",
       "      <td>match</td>\n",
       "    </tr>\n",
       "    <tr>\n",
       "      <th>.</th>\n",
       "      <td>punct</td>\n",
       "      <td>0</td>\n",
       "      <td>0</td>\n",
       "      <td>0</td>\n",
       "      <td>match</td>\n",
       "    </tr>\n",
       "  </tbody>\n",
       "</table>\n",
       "</div>"
      ],
      "text/plain": [
       "              deprel  cross  sacr_cross  dep_changes astred_op\n",
       "Dit            nsubj      0           0            1     match\n",
       "is               cop      6           6            3     match\n",
       "de               det      3           3            0    rename\n",
       "duurste         amod      4           3            1  deletion\n",
       "voorstelling    root      4           4            1    rename\n",
       "ooit          advmod      3           2            0  deletion\n",
       "in              case      4           3            0  deletion\n",
       "het              det      3           3            0     match\n",
       "museum           obl      3           3            1     match\n",
       ".              punct      0           0            0     match"
      ]
     },
     "metadata": {},
     "output_type": "display_data"
    }
   ],
   "source": [
    "df_src, df_tgt = astred.data_frame()\n",
    "display(df_src)\n",
    "display(df_tgt)"
   ]
  },
  {
   "cell_type": "code",
   "execution_count": 6,
   "metadata": {},
   "outputs": [
    {
     "name": "stdout",
     "output_type": "stream",
     "text": [
      "\n",
      " simple_analysis \n",
      "\n",
      "Dit The nsubj det\n",
      "is is cop aux\n",
      "is billed cop root\n",
      "is as cop case\n",
      "de The det det\n",
      "duurste largest amod obl\n",
      "voorstelling show root nsubj\n",
      "ooit ever advmod advmod\n",
      "in 's case case\n",
      "het the det det\n",
      "museum museum obl nmod\n",
      ". . punct punct\n",
      "\n",
      " is_changed \n",
      "\n",
      "Dutch: is AUX\n",
      "Aligned: is AUX False\n",
      "Aligned: billed VERB True\n",
      "Aligned: as ADP True\n",
      "\n",
      " span_root \n",
      "\n",
      "The The\n",
      "show show\n",
      "is is\n",
      "billed billed\n",
      "as as\n",
      "the museum museum\n",
      "'s 's\n",
      "largest largest\n",
      "ever ever\n",
      ". .\n"
     ]
    }
   ],
   "source": [
    "astred.simple_analysis()\n",
    "astred.is_changed()\n",
    "astred.span_root()"
   ]
  },
  {
   "attachments": {},
   "cell_type": "markdown",
   "metadata": {},
   "source": [
    "# Samples new_run"
   ]
  },
  {
   "cell_type": "code",
   "execution_count": 9,
   "metadata": {},
   "outputs": [],
   "source": [
    "from pathlib import Path\n",
    "import pandas as pd\n",
    "\n",
    "new_run_lfa = sorted(Path('../data/2_new_run/').glob('*/**/*.lfa'))\n",
    "new_run_wa = sorted(Path('../data/2_new_run/').glob('*/**/*.wa'))\n",
    "with open(new_run_lfa[0], 'r', encoding='utf-8') as f:\n",
    "    new_run_lfa_f = f.read().splitlines()\n",
    "\n",
    "new_run_lfa_f = [i.split(' ||| ') for i in new_run_lfa_f if '' not in i.split(' ||| ')]\n",
    "\n",
    "with open(new_run_wa[0], 'r', encoding='utf-8') as f:\n",
    "    new_run_wa_f = f.read().splitlines()\n",
    "\n",
    "new_run_wa_f = [i for i in new_run_wa_f if i != '']\n",
    "\n"
   ]
  },
  {
   "cell_type": "code",
   "execution_count": 16,
   "metadata": {},
   "outputs": [
    {
     "name": "stdout",
     "output_type": "stream",
     "text": [
      "The De\n",
      "Inquisition Inquisitie\n",
      "has heeft\n",
      "delivered overgedragen\n",
      "Spain Spanje\n",
      "to aan\n",
      "the de\n",
      "Templars Tempeliers\n",
      ". .\n"
     ]
    }
   ],
   "source": [
    "# print(new_run_lfa_f[0], '\\n', new_run_wa_f[0])\n",
    "for i in new_run_wa_f[0].split(' '):\n",
    "    print(\n",
    "        new_run_lfa_f[0][0].split(' ')[int(i.split('-')[0])],\n",
    "        new_run_lfa_f[0][1].split(' ')[int(i.split('-')[1])]\n",
    "    )\n",
    "    # print(i)"
   ]
  },
  {
   "cell_type": "code",
   "execution_count": 20,
   "metadata": {},
   "outputs": [],
   "source": [
    "sent_en = new_run_lfa_f[0][0]\n",
    "sent_nl = new_run_lfa_f[0][1]\n",
    "aligns = new_run_wa_f[0]"
   ]
  },
  {
   "cell_type": "code",
   "execution_count": 23,
   "metadata": {},
   "outputs": [],
   "source": [
    "ac_test = astredAndre(sent_en, sent_nl, aligns, new_run_lfa[0].as_posix())"
   ]
  },
  {
   "cell_type": "code",
   "execution_count": 28,
   "metadata": {},
   "outputs": [
    {
     "data": {
      "text/plain": [
       "9.0"
      ]
     },
     "execution_count": 28,
     "metadata": {},
     "output_type": "execute_result"
    }
   ],
   "source": [
    "sacr_cross_score(ac_test.aligned)"
   ]
  },
  {
   "cell_type": "code",
   "execution_count": 31,
   "metadata": {},
   "outputs": [
    {
     "name": "stdout",
     "output_type": "stream",
     "text": [
      "'The'(det) | 'De'(fixed) | 1\n",
      "'Inquisition'(nsubj) | 'Inquisitie'(fixed) | 1\n",
      "'has'(aux) | 'heeft'(aux) | 0\n",
      "'delivered'(root) | 'overgedragen'(parataxis) | 1\n",
      "'Spain'(obj) | 'Spanje'(obj) | 0\n",
      "'to'(case) | 'aan'(case) | 0\n",
      "'the'(det) | 'de'(det) | 0\n",
      "'Templars'(obl) | 'Tempeliers'(obl) | 0\n",
      "'.'(punct) | '.'(punct) | 0\n",
      "Total: 3 (normalised: 3 out of 9 = 0.3333333333333333)\n"
     ]
    },
    {
     "data": {
      "text/plain": [
       "0.3333333333333333"
      ]
     },
     "execution_count": 31,
     "metadata": {},
     "output_type": "execute_result"
    }
   ],
   "source": [
    "label_changes_score(ac_test.aligned, verbose=True)"
   ]
  },
  {
   "cell_type": "code",
   "execution_count": 30,
   "metadata": {},
   "outputs": [
    {
     "data": {
      "text/plain": [
       "0.22857142857142856"
      ]
     },
     "execution_count": 30,
     "metadata": {},
     "output_type": "execute_result"
    }
   ],
   "source": [
    "astred_score(ac_test.aligned, ac_test.sent_en, ac_test.sent_nl)"
   ]
  }
 ],
 "metadata": {
  "kernelspec": {
   "display_name": "env-thesis_repo",
   "language": "python",
   "name": "python3"
  },
  "language_info": {
   "codemirror_mode": {
    "name": "ipython",
    "version": 3
   },
   "file_extension": ".py",
   "mimetype": "text/x-python",
   "name": "python",
   "nbconvert_exporter": "python",
   "pygments_lexer": "ipython3",
   "version": "3.10.11"
  },
  "orig_nbformat": 4
 },
 "nbformat": 4,
 "nbformat_minor": 2
}
